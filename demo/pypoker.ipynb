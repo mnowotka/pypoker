{
 "metadata": {
  "name": ""
 },
 "nbformat": 3,
 "nbformat_minor": 0,
 "worksheets": [
  {
   "cells": [
    {
     "cell_type": "code",
     "collapsed": false,
     "input": [
      "import simplejson\n",
      "from pypoker.card import Card\n",
      "from pypoker.deck import Deck\n",
      "from pypoker.hand import Hand"
     ],
     "language": "python",
     "metadata": {},
     "outputs": [],
     "prompt_number": 1
    },
    {
     "cell_type": "code",
     "collapsed": false,
     "input": [
      "c1 = Card()\n",
      "c2 = Card()"
     ],
     "language": "python",
     "metadata": {},
     "outputs": [],
     "prompt_number": 2
    },
    {
     "cell_type": "code",
     "collapsed": false,
     "input": [
      "print str(c1)\n",
      "print unicode(c2)"
     ],
     "language": "python",
     "metadata": {},
     "outputs": [
      {
       "output_type": "stream",
       "stream": "stdout",
       "text": [
        "\u001b[31mQH\u001b[0m\n",
        "\u001b[37m3\u2660\u001b[0m\n"
       ]
      }
     ],
     "prompt_number": 3
    },
    {
     "cell_type": "code",
     "collapsed": false,
     "input": [
      "print c1.name()\n",
      "print c2.name()"
     ],
     "language": "python",
     "metadata": {},
     "outputs": [
      {
       "output_type": "stream",
       "stream": "stdout",
       "text": [
        "Queen of Hearts\n",
        "Three of Spades\n"
       ]
      }
     ],
     "prompt_number": 4
    },
    {
     "cell_type": "code",
     "collapsed": false,
     "input": [
      "print c1 > c2\n",
      "print c1 == c2"
     ],
     "language": "python",
     "metadata": {},
     "outputs": [
      {
       "output_type": "stream",
       "stream": "stdout",
       "text": [
        "True\n",
        "False\n"
       ]
      }
     ],
     "prompt_number": 5
    },
    {
     "cell_type": "code",
     "collapsed": false,
     "input": [
      "d = Deck()"
     ],
     "language": "python",
     "metadata": {},
     "outputs": [],
     "prompt_number": 6
    },
    {
     "cell_type": "code",
     "collapsed": false,
     "input": [
      "len(d)"
     ],
     "language": "python",
     "metadata": {},
     "outputs": [
      {
       "metadata": {},
       "output_type": "pyout",
       "prompt_number": 7,
       "text": [
        "52"
       ]
      }
     ],
     "prompt_number": 7
    },
    {
     "cell_type": "code",
     "collapsed": false,
     "input": [
      "print unicode(d)"
     ],
     "language": "python",
     "metadata": {},
     "outputs": [
      {
       "output_type": "stream",
       "stream": "stdout",
       "text": [
        "[\u001b[37mA\u2660\u001b[0m, \u001b[31mA\u2665\u001b[0m, \u001b[31mA\u2666\u001b[0m, \u001b[37mA\u2663\u001b[0m, \u001b[37mK\u2660\u001b[0m, \u001b[31mK\u2665\u001b[0m, \u001b[31mK\u2666\u001b[0m, \u001b[37mK\u2663\u001b[0m, \u001b[37mQ\u2660\u001b[0m, \u001b[31mQ\u2665\u001b[0m, \u001b[31mQ\u2666\u001b[0m, \u001b[37mQ\u2663\u001b[0m, \u001b[37mJ\u2660\u001b[0m, \u001b[31mJ\u2665\u001b[0m, \u001b[31mJ\u2666\u001b[0m, \u001b[37mJ\u2663\u001b[0m, \u001b[37m10\u2660\u001b[0m, \u001b[31m10\u2665\u001b[0m, \u001b[31m10\u2666\u001b[0m, \u001b[37m10\u2663\u001b[0m, \u001b[37m9\u2660\u001b[0m, \u001b[31m9\u2665\u001b[0m, \u001b[31m9\u2666\u001b[0m, \u001b[37m9\u2663\u001b[0m, \u001b[37m8\u2660\u001b[0m, \u001b[31m8\u2665\u001b[0m, \u001b[31m8\u2666\u001b[0m, \u001b[37m8\u2663\u001b[0m, \u001b[37m7\u2660\u001b[0m, \u001b[31m7\u2665\u001b[0m, \u001b[31m7\u2666\u001b[0m, \u001b[37m7\u2663\u001b[0m, \u001b[37m6\u2660\u001b[0m, \u001b[31m6\u2665\u001b[0m, \u001b[31m6\u2666\u001b[0m, \u001b[37m6\u2663\u001b[0m, \u001b[37m5\u2660\u001b[0m, \u001b[31m5\u2665\u001b[0m, \u001b[31m5\u2666\u001b[0m, \u001b[37m5\u2663\u001b[0m, \u001b[37m4\u2660\u001b[0m, \u001b[31m4\u2665\u001b[0m, \u001b[31m4\u2666\u001b[0m, \u001b[37m4\u2663\u001b[0m, \u001b[37m3\u2660\u001b[0m, \u001b[31m3\u2665\u001b[0m, \u001b[31m3\u2666\u001b[0m, \u001b[37m3\u2663\u001b[0m, \u001b[37m2\u2660\u001b[0m, \u001b[31m2\u2665\u001b[0m, \u001b[31m2\u2666\u001b[0m, \u001b[37m2\u2663\u001b[0m]\n"
       ]
      }
     ],
     "prompt_number": 8
    },
    {
     "cell_type": "code",
     "collapsed": false,
     "input": [
      "d.shuffle()"
     ],
     "language": "python",
     "metadata": {},
     "outputs": [],
     "prompt_number": 9
    },
    {
     "cell_type": "code",
     "collapsed": false,
     "input": [
      "print unicode(d)"
     ],
     "language": "python",
     "metadata": {},
     "outputs": [
      {
       "output_type": "stream",
       "stream": "stdout",
       "text": [
        "[\u001b[37m7\u2660\u001b[0m, \u001b[37mJ\u2660\u001b[0m, \u001b[37m8\u2660\u001b[0m, \u001b[37m4\u2663\u001b[0m, \u001b[37m9\u2660\u001b[0m, \u001b[37mQ\u2663\u001b[0m, \u001b[31m6\u2665\u001b[0m, \u001b[37m7\u2663\u001b[0m, \u001b[31mA\u2665\u001b[0m, \u001b[31m9\u2665\u001b[0m, \u001b[31m7\u2666\u001b[0m, \u001b[37m3\u2660\u001b[0m, \u001b[31m3\u2665\u001b[0m, \u001b[37m6\u2663\u001b[0m, \u001b[37m8\u2663\u001b[0m, \u001b[31m6\u2666\u001b[0m, \u001b[37m6\u2660\u001b[0m, \u001b[31m8\u2665\u001b[0m, \u001b[31mQ\u2665\u001b[0m, \u001b[31mJ\u2665\u001b[0m, \u001b[31m4\u2665\u001b[0m, \u001b[31mA\u2666\u001b[0m, \u001b[31m5\u2665\u001b[0m, \u001b[37m9\u2663\u001b[0m, \u001b[37m3\u2663\u001b[0m, \u001b[31mJ\u2666\u001b[0m, \u001b[37mA\u2663\u001b[0m, \u001b[37mK\u2663\u001b[0m, \u001b[31m8\u2666\u001b[0m, \u001b[31m10\u2666\u001b[0m, \u001b[31m10\u2665\u001b[0m, \u001b[31m7\u2665\u001b[0m, \u001b[37mK\u2660\u001b[0m, \u001b[37m2\u2660\u001b[0m, \u001b[31m4\u2666\u001b[0m, \u001b[31m5\u2666\u001b[0m, \u001b[31m3\u2666\u001b[0m, \u001b[37m10\u2663\u001b[0m, \u001b[31mK\u2666\u001b[0m, \u001b[37m4\u2660\u001b[0m, \u001b[31mQ\u2666\u001b[0m, \u001b[37mA\u2660\u001b[0m, \u001b[37m10\u2660\u001b[0m, \u001b[37m5\u2660\u001b[0m, \u001b[37mJ\u2663\u001b[0m, \u001b[31m2\u2665\u001b[0m, \u001b[31mK\u2665\u001b[0m, \u001b[31m2\u2666\u001b[0m, \u001b[37m2\u2663\u001b[0m, \u001b[31m9\u2666\u001b[0m, \u001b[37m5\u2663\u001b[0m, \u001b[37mQ\u2660\u001b[0m]\n"
       ]
      }
     ],
     "prompt_number": 10
    },
    {
     "cell_type": "code",
     "collapsed": false,
     "input": [
      "d2 = Deck(start=\"9\")"
     ],
     "language": "python",
     "metadata": {},
     "outputs": [],
     "prompt_number": 11
    },
    {
     "cell_type": "code",
     "collapsed": false,
     "input": [
      "print unicode(d2)"
     ],
     "language": "python",
     "metadata": {},
     "outputs": [
      {
       "output_type": "stream",
       "stream": "stdout",
       "text": [
        "[\u001b[37mA\u2660\u001b[0m, \u001b[31mA\u2665\u001b[0m, \u001b[31mA\u2666\u001b[0m, \u001b[37mA\u2663\u001b[0m, \u001b[37mK\u2660\u001b[0m, \u001b[31mK\u2665\u001b[0m, \u001b[31mK\u2666\u001b[0m, \u001b[37mK\u2663\u001b[0m, \u001b[37mQ\u2660\u001b[0m, \u001b[31mQ\u2665\u001b[0m, \u001b[31mQ\u2666\u001b[0m, \u001b[37mQ\u2663\u001b[0m, \u001b[37mJ\u2660\u001b[0m, \u001b[31mJ\u2665\u001b[0m, \u001b[31mJ\u2666\u001b[0m, \u001b[37mJ\u2663\u001b[0m, \u001b[37m10\u2660\u001b[0m, \u001b[31m10\u2665\u001b[0m, \u001b[31m10\u2666\u001b[0m, \u001b[37m10\u2663\u001b[0m, \u001b[37m9\u2660\u001b[0m, \u001b[31m9\u2665\u001b[0m, \u001b[31m9\u2666\u001b[0m, \u001b[37m9\u2663\u001b[0m]\n"
       ]
      }
     ],
     "prompt_number": 12
    },
    {
     "cell_type": "code",
     "collapsed": false,
     "input": [
      "print 'AD' in d2\n",
      "print Card('AS') in d2"
     ],
     "language": "python",
     "metadata": {},
     "outputs": [
      {
       "output_type": "stream",
       "stream": "stdout",
       "text": [
        "True\n",
        "True\n"
       ]
      }
     ],
     "prompt_number": 35
    },
    {
     "cell_type": "code",
     "collapsed": false,
     "input": [
      "d2.shuffle()"
     ],
     "language": "python",
     "metadata": {},
     "outputs": [],
     "prompt_number": 13
    },
    {
     "cell_type": "code",
     "collapsed": false,
     "input": [
      "print unicode(d2)"
     ],
     "language": "python",
     "metadata": {},
     "outputs": [
      {
       "output_type": "stream",
       "stream": "stdout",
       "text": [
        "[\u001b[31m10\u2666\u001b[0m, \u001b[31mA\u2666\u001b[0m, \u001b[37m9\u2660\u001b[0m, \u001b[37mA\u2663\u001b[0m, \u001b[31mK\u2665\u001b[0m, \u001b[31m9\u2666\u001b[0m, \u001b[37mK\u2660\u001b[0m, \u001b[37m9\u2663\u001b[0m, \u001b[37m10\u2663\u001b[0m, \u001b[37mJ\u2660\u001b[0m, \u001b[31m9\u2665\u001b[0m, \u001b[31mA\u2665\u001b[0m, \u001b[31mJ\u2666\u001b[0m, \u001b[31mQ\u2665\u001b[0m, \u001b[31mJ\u2665\u001b[0m, \u001b[37mK\u2663\u001b[0m, \u001b[31m10\u2665\u001b[0m, \u001b[37mA\u2660\u001b[0m, \u001b[31mQ\u2666\u001b[0m, \u001b[37mJ\u2663\u001b[0m, \u001b[37m10\u2660\u001b[0m, \u001b[37mQ\u2660\u001b[0m, \u001b[31mK\u2666\u001b[0m, \u001b[37mQ\u2663\u001b[0m]\n"
       ]
      }
     ],
     "prompt_number": 14
    },
    {
     "cell_type": "code",
     "collapsed": false,
     "input": [
      "print \", \".join([unicode(x) for x in d2[-4:]][::-1])"
     ],
     "language": "python",
     "metadata": {},
     "outputs": [
      {
       "output_type": "stream",
       "stream": "stdout",
       "text": [
        "\u001b[31m10\u2666\u001b[0m, \u001b[31mA\u2666\u001b[0m, \u001b[37m9\u2660\u001b[0m, \u001b[37mA\u2663\u001b[0m\n"
       ]
      }
     ],
     "prompt_number": 15
    },
    {
     "cell_type": "code",
     "collapsed": false,
     "input": [
      "d2.burn()"
     ],
     "language": "python",
     "metadata": {},
     "outputs": [],
     "prompt_number": 16
    },
    {
     "cell_type": "code",
     "collapsed": false,
     "input": [
      "print unicode(d2)"
     ],
     "language": "python",
     "metadata": {},
     "outputs": [
      {
       "output_type": "stream",
       "stream": "stdout",
       "text": [
        "[\u001b[31mA\u2666\u001b[0m, \u001b[37m9\u2660\u001b[0m, \u001b[37mA\u2663\u001b[0m, \u001b[31mK\u2665\u001b[0m, \u001b[31m9\u2666\u001b[0m, \u001b[37mK\u2660\u001b[0m, \u001b[37m9\u2663\u001b[0m, \u001b[37m10\u2663\u001b[0m, \u001b[37mJ\u2660\u001b[0m, \u001b[31m9\u2665\u001b[0m, \u001b[31mA\u2665\u001b[0m, \u001b[31mJ\u2666\u001b[0m, \u001b[31mQ\u2665\u001b[0m, \u001b[31mJ\u2665\u001b[0m, \u001b[37mK\u2663\u001b[0m, \u001b[31m10\u2665\u001b[0m, \u001b[37mA\u2660\u001b[0m, \u001b[31mQ\u2666\u001b[0m, \u001b[37mJ\u2663\u001b[0m, \u001b[37m10\u2660\u001b[0m, \u001b[37mQ\u2660\u001b[0m, \u001b[31mK\u2666\u001b[0m, \u001b[37mQ\u2663\u001b[0m]\n"
       ]
      }
     ],
     "prompt_number": 17
    },
    {
     "cell_type": "code",
     "collapsed": false,
     "input": [
      "json_string = repr(c1)"
     ],
     "language": "python",
     "metadata": {},
     "outputs": [],
     "prompt_number": 18
    },
    {
     "cell_type": "code",
     "collapsed": false,
     "input": [
      "c3 = Card(simplejson.loads(json_string))\n",
      "c1 == c3"
     ],
     "language": "python",
     "metadata": {},
     "outputs": [
      {
       "metadata": {},
       "output_type": "pyout",
       "prompt_number": 19,
       "text": [
        "True"
       ]
      }
     ],
     "prompt_number": 19
    },
    {
     "cell_type": "code",
     "collapsed": false,
     "input": [
      "repr(d2)"
     ],
     "language": "python",
     "metadata": {},
     "outputs": [
      {
       "metadata": {},
       "output_type": "pyout",
       "prompt_number": 20,
       "text": [
        "'[\"QC\", \"KD\", \"QS\", \"10S\", \"JC\", \"QD\", \"AS\", \"10H\", \"KC\", \"JH\", \"QH\", \"JD\", \"AH\", \"9H\", \"JS\", \"10C\", \"9C\", \"KS\", \"9D\", \"KH\", \"AC\", \"9S\", \"AD\"]'"
       ]
      }
     ],
     "prompt_number": 20
    },
    {
     "cell_type": "code",
     "collapsed": false,
     "input": [
      "json_string = repr(d2)\n",
      "d3 = simplejson.loads(json_string)"
     ],
     "language": "python",
     "metadata": {},
     "outputs": [],
     "prompt_number": 21
    },
    {
     "cell_type": "code",
     "collapsed": false,
     "input": [
      "d3 = Deck(from_list=simplejson.loads(repr(d2)))\n",
      "print unicode(d3)\n",
      "d2 == d3"
     ],
     "language": "python",
     "metadata": {},
     "outputs": [
      {
       "output_type": "stream",
       "stream": "stdout",
       "text": [
        "[\u001b[31mA\u2666\u001b[0m, \u001b[37m9\u2660\u001b[0m, \u001b[37mA\u2663\u001b[0m, \u001b[31mK\u2665\u001b[0m, \u001b[31m9\u2666\u001b[0m, \u001b[37mK\u2660\u001b[0m, \u001b[37m9\u2663\u001b[0m, \u001b[37m10\u2663\u001b[0m, \u001b[37mJ\u2660\u001b[0m, \u001b[31m9\u2665\u001b[0m, \u001b[31mA\u2665\u001b[0m, \u001b[31mJ\u2666\u001b[0m, \u001b[31mQ\u2665\u001b[0m, \u001b[31mJ\u2665\u001b[0m, \u001b[37mK\u2663\u001b[0m, \u001b[31m10\u2665\u001b[0m, \u001b[37mA\u2660\u001b[0m, \u001b[31mQ\u2666\u001b[0m, \u001b[37mJ\u2663\u001b[0m, \u001b[37m10\u2660\u001b[0m, \u001b[37mQ\u2660\u001b[0m, \u001b[31mK\u2666\u001b[0m, \u001b[37mQ\u2663\u001b[0m]\n"
       ]
      },
      {
       "metadata": {},
       "output_type": "pyout",
       "prompt_number": 22,
       "text": [
        "True"
       ]
      }
     ],
     "prompt_number": 22
    },
    {
     "cell_type": "code",
     "collapsed": false,
     "input": [
      "for x in d3.deal(2,4):\n",
      "    print unicode(x)"
     ],
     "language": "python",
     "metadata": {},
     "outputs": [
      {
       "output_type": "stream",
       "stream": "stdout",
       "text": [
        "{\u001b[37m9\u2660\u001b[0m, \u001b[31mA\u2666\u001b[0m}\n",
        "{\u001b[31mK\u2665\u001b[0m, \u001b[37mA\u2663\u001b[0m}\n",
        "{\u001b[31m9\u2666\u001b[0m, \u001b[37mK\u2660\u001b[0m}\n",
        "{\u001b[37m10\u2663\u001b[0m, \u001b[37m9\u2663\u001b[0m}\n"
       ]
      }
     ],
     "prompt_number": 23
    },
    {
     "cell_type": "code",
     "collapsed": false,
     "input": [
      "print unicode(d3)"
     ],
     "language": "python",
     "metadata": {},
     "outputs": [
      {
       "output_type": "stream",
       "stream": "stdout",
       "text": [
        "[\u001b[37mJ\u2660\u001b[0m, \u001b[31m9\u2665\u001b[0m, \u001b[31mA\u2665\u001b[0m, \u001b[31mJ\u2666\u001b[0m, \u001b[31mQ\u2665\u001b[0m, \u001b[31mJ\u2665\u001b[0m, \u001b[37mK\u2663\u001b[0m, \u001b[31m10\u2665\u001b[0m, \u001b[37mA\u2660\u001b[0m, \u001b[31mQ\u2666\u001b[0m, \u001b[37mJ\u2663\u001b[0m, \u001b[37m10\u2660\u001b[0m, \u001b[37mQ\u2660\u001b[0m, \u001b[31mK\u2666\u001b[0m, \u001b[37mQ\u2663\u001b[0m]\n"
       ]
      }
     ],
     "prompt_number": 24
    },
    {
     "cell_type": "code",
     "collapsed": false,
     "input": [
      "hands = [x for x in d3.deal(2,4)]\n",
      "for hand in hands:\n",
      "    print unicode(hand)"
     ],
     "language": "python",
     "metadata": {},
     "outputs": [
      {
       "output_type": "stream",
       "stream": "stdout",
       "text": [
        "{\u001b[31m9\u2665\u001b[0m, \u001b[37mJ\u2660\u001b[0m}\n",
        "{\u001b[31mJ\u2666\u001b[0m, \u001b[31mA\u2665\u001b[0m}\n",
        "{\u001b[31mQ\u2665\u001b[0m, \u001b[31mJ\u2665\u001b[0m}\n",
        "{\u001b[37mK\u2663\u001b[0m, \u001b[31m10\u2665\u001b[0m}\n"
       ]
      }
     ],
     "prompt_number": 25
    },
    {
     "cell_type": "code",
     "collapsed": false,
     "input": [
      "hand = hands[0]\n",
      "print type(hand) == Hand\n",
      "print repr(hand)\n",
      "print str(hand)\n",
      "print unicode(hand)"
     ],
     "language": "python",
     "metadata": {},
     "outputs": [
      {
       "output_type": "stream",
       "stream": "stdout",
       "text": [
        "True\n",
        "[\"9H\", \"JS\"]\n",
        "{\u001b[31m9H\u001b[0m, \u001b[37mJS\u001b[0m}\n",
        "{\u001b[31m9\u2665\u001b[0m, \u001b[37mJ\u2660\u001b[0m}\n"
       ]
      }
     ],
     "prompt_number": 26
    },
    {
     "cell_type": "code",
     "collapsed": false,
     "input": [
      "h2 = Hand(simplejson.loads(repr(hand)))"
     ],
     "language": "python",
     "metadata": {},
     "outputs": [],
     "prompt_number": 27
    },
    {
     "cell_type": "code",
     "collapsed": false,
     "input": [
      "print h2 == hand\n",
      "print type(h2) == Hand\n",
      "print repr(h2)\n",
      "print str(h2)\n",
      "print unicode(h2)"
     ],
     "language": "python",
     "metadata": {},
     "outputs": [
      {
       "output_type": "stream",
       "stream": "stdout",
       "text": [
        "True\n",
        "True\n",
        "[\"9H\", \"JS\"]\n",
        "{\u001b[31m9H\u001b[0m, \u001b[37mJS\u001b[0m}\n",
        "{\u001b[31m9\u2665\u001b[0m, \u001b[37mJ\u2660\u001b[0m}\n"
       ]
      }
     ],
     "prompt_number": 28
    },
    {
     "cell_type": "code",
     "collapsed": false,
     "input": [
      "c1 = Card('10S')\n",
      "c2 = Card('10S')\n",
      "print hash(c1)\n",
      "print hash(c2)\n",
      "print hash(c1) == hash(c2)"
     ],
     "language": "python",
     "metadata": {},
     "outputs": [
      {
       "output_type": "stream",
       "stream": "stdout",
       "text": [
        "144\n",
        "144\n",
        "True\n"
       ]
      }
     ],
     "prompt_number": 29
    },
    {
     "cell_type": "code",
     "collapsed": false,
     "input": [
      "print h2 - hand\n",
      "print hand - h2\n",
      "print Card('10S') in hand"
     ],
     "language": "python",
     "metadata": {},
     "outputs": [
      {
       "output_type": "stream",
       "stream": "stdout",
       "text": [
        "{}\n",
        "{}\n",
        "False\n"
       ]
      }
     ],
     "prompt_number": 30
    },
    {
     "cell_type": "code",
     "collapsed": false,
     "input": [
      "'9H' in h2"
     ],
     "language": "python",
     "metadata": {},
     "outputs": [
      {
       "metadata": {},
       "output_type": "pyout",
       "prompt_number": 33,
       "text": [
        "True"
       ]
      }
     ],
     "prompt_number": 33
    },
    {
     "cell_type": "code",
     "collapsed": false,
     "input": [],
     "language": "python",
     "metadata": {},
     "outputs": []
    }
   ],
   "metadata": {}
  }
 ]
}